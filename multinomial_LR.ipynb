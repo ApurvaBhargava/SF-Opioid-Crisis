{
 "cells": [
  {
   "cell_type": "code",
   "execution_count": 0,
   "metadata": {
    "colab": {},
    "colab_type": "code",
    "id": "5lzPszb9BqmN"
   },
   "outputs": [],
   "source": [
    "from google.colab import drive\n",
    "drive.mount('/content/gdrive')"
   ]
  },
  {
   "cell_type": "code",
   "execution_count": 0,
   "metadata": {
    "colab": {},
    "colab_type": "code",
    "id": "zevvNcRoBuwT"
   },
   "outputs": [],
   "source": [
    "import pandas as pd\n",
    "import numpy as np\n",
    "import matplotlib.pyplot as plt \n",
    "import seaborn as sns\n",
    "from sklearn.metrics import accuracy_score\n",
    "from sklearn.metrics import roc_curve, roc_auc_score\n",
    "from sklearn.model_selection import train_test_split\n",
    "from sklearn.linear_model import LogisticRegression\n",
    "from math import ceil\n",
    "import scipy.stats as stats \n",
    "%matplotlib inline"
   ]
  },
  {
   "cell_type": "code",
   "execution_count": 0,
   "metadata": {
    "colab": {},
    "colab_type": "code",
    "id": "jmI5gvMZBuy2"
   },
   "outputs": [],
   "source": [
    "d_crime = pd.read_csv(\"/content/gdrive/My Drive/SF dataset/Police_Department_Incident_Reports__Historical_2003_to_May_2018.csv\")"
   ]
  },
  {
   "cell_type": "code",
   "execution_count": 0,
   "metadata": {
    "colab": {},
    "colab_type": "code",
    "id": "tss1nPESBu1W"
   },
   "outputs": [],
   "source": [
    "d_crime.head(2)"
   ]
  },
  {
   "cell_type": "code",
   "execution_count": 0,
   "metadata": {
    "colab": {},
    "colab_type": "code",
    "id": "vjcWS8S6Bu4B"
   },
   "outputs": [],
   "source": [
    "#setting x variable and y variable\n",
    "x = [\"X\",\"Y\",\"PdDistrict\"]\n",
    "y = \"Category\""
   ]
  },
  {
   "cell_type": "code",
   "execution_count": 0,
   "metadata": {
    "colab": {},
    "colab_type": "code",
    "id": "PyIkSaJ3Bu6k"
   },
   "outputs": [],
   "source": [
    "#This function transforms the categorical y into numeric, and prepare it for multiclass classfication\n",
    "def transformation(dataset,y,x):\n",
    "    for i in dataset.columns:\n",
    "        if i not in x and i != y:\n",
    "            dataset.drop(i,axis=1,inplace=True)         #drop unrelavent columns\n",
    "    dataset.dropna(axis=0, how='any', inplace=True)    \n",
    "    neighborhood=pd.get_dummies(dataset[\"PdDistrict\"])\n",
    "    dataset=pd.concat([dataset,neighborhood],axis=1)\n",
    "    dataset.drop(\"PdDistrict\",axis=1,inplace=True)\n",
    "    y_variable = dataset[y].unique()\n",
    "    dic_y = {}                       # use a dictionary to temporarily hold crime data, transform crime into numeric representation\n",
    "    i = 1 \n",
    "    for crime_type in y_variable:         \n",
    "        dic_y[crime_type]=i\n",
    "        i=i+1\n",
    "    dataset.replace(to_replace=dic_y,inplace=True)\n",
    "    return dataset,dic_y\n",
    "\n",
    "df,temp = transformation(d_crime,y,x)\n",
    "df,temp"
   ]
  },
  {
   "cell_type": "code",
   "execution_count": 0,
   "metadata": {
    "colab": {},
    "colab_type": "code",
    "id": "Fl5D8F1UBu9c"
   },
   "outputs": [],
   "source": [
    "sns.countplot(x=\"Category\",data=df)  #shows the number of crimes in numeric representation"
   ]
  },
  {
   "cell_type": "code",
   "execution_count": 0,
   "metadata": {
    "colab": {},
    "colab_type": "code",
    "id": "4jczk6ZkBvDV"
   },
   "outputs": [],
   "source": [
    "# I dropped Y variable for X, and split dataset 0.3 vs 0.7\n",
    "X=df.drop(\"Category\",axis=1)\n",
    "Y=df[\"Category\"]\n",
    "x_train,x_test,y_train,y_test = train_test_split(X,Y,test_size=0.3)"
   ]
  },
  {
   "cell_type": "code",
   "execution_count": 0,
   "metadata": {
    "colab": {},
    "colab_type": "code",
    "id": "eoUTBdqdBvTO"
   },
   "outputs": [],
   "source": [
    "#build a multinomial logistic model\n",
    "log_model = LogisticRegression().fit(x_train,y_train)\n",
    "prediction = log_model.predict(x_test)\n",
    "prediction"
   ]
  },
  {
   "cell_type": "code",
   "execution_count": 0,
   "metadata": {
    "colab": {},
    "colab_type": "code",
    "id": "hFlU6qdrBvOU"
   },
   "outputs": [],
   "source": [
    "#Evaluate the model based on prediction accuracy\n",
    "model_score = accuracy_score(y_test,prediction)\n",
    "model_score  "
   ]
  },
  {
   "cell_type": "code",
   "execution_count": 0,
   "metadata": {
    "colab": {},
    "colab_type": "code",
    "id": "ztligYZiBvNK"
   },
   "outputs": [],
   "source": [
    "#predict the log-probability of the sample for each class/crime\n",
    "proba = log_model.predict_proba(x_test)"
   ]
  },
  {
   "cell_type": "markdown",
   "metadata": {
    "colab_type": "text",
    "id": "8-jyltZ2CA0V"
   },
   "source": [
    "This table shows the likelihood of each crime happening on that geo cordinates"
   ]
  },
  {
   "cell_type": "code",
   "execution_count": 0,
   "metadata": {
    "colab": {},
    "colab_type": "code",
    "id": "IvOM6BAOBvIj"
   },
   "outputs": [],
   "source": [
    "#this function takes as input a dictionary, and return the key\n",
    "def getback_columns(dictionary,number):\n",
    "    for key,value in dictionary.items():\n",
    "        if value==number:\n",
    "            return key\n",
    "        else:\n",
    "            continue\n",
    "column_names = []       # this list holds column names so will be used later to construct the output table\n",
    "for classes in log_model.classes_:\n",
    "    key = getback_columns(temp,classes)\n",
    "    column_names.append(key)\n",
    "column_names\n",
    "output_table = pd.DataFrame(proba, columns=column_names)\n",
    "output_table"
   ]
  },
  {
   "cell_type": "code",
   "execution_count": 0,
   "metadata": {
    "colab": {},
    "colab_type": "code",
    "id": "S_j3QAvCBvHU"
   },
   "outputs": [],
   "source": [
    "#Evaluating the model with precision, recall, and f1 score\n",
    "print(classification_report(y_test,prediction))"
   ]
  },
  {
   "cell_type": "code",
   "execution_count": 0,
   "metadata": {
    "colab": {},
    "colab_type": "code",
    "id": "ucT2H9q8BvCB"
   },
   "outputs": [],
   "source": [
    "#Evaluate the model with confusion matrix\n",
    "matrix = confusion_matrix(y_test,prediction )"
   ]
  },
  {
   "cell_type": "code",
   "execution_count": 0,
   "metadata": {
    "colab": {},
    "colab_type": "code",
    "id": "-RYTYLnfCHHG"
   },
   "outputs": [],
   "source": [
    "#Put confusion matrix data into a dataframe, and visualize it with heatmap\n",
    "confusion_df = pd.DataFrame(matrix,\n",
    "                     index = temp.keys(), \n",
    "                     columns = temp.keys())\n",
    "plt.figure(figsize=(30,20))\n",
    "plt.title('Multinomial logistic regression\\nAccuracy:{0:.3f}'.format(model_score))\n",
    "plt.ylabel('True label')\n",
    "plt.xlabel('Predicted label')\n",
    "sns.heatmap(confusion_df, annot=True)\n",
    "plt.show()"
   ]
  },
  {
   "cell_type": "markdown",
   "metadata": {
    "colab_type": "text",
    "id": "-qjd1FiUCMGL"
   },
   "source": [
    "Reference list:\n",
    "1. https://dataaspirant.com/2017/03/14/multinomial-logistic-regression-model-works-machine-learning/"
   ]
  }
 ],
 "metadata": {
  "colab": {
   "include_colab_link": true,
   "name": "multinomial_LR.ipynb",
   "provenance": []
  },
  "kernelspec": {
   "display_name": "Python 3",
   "language": "python",
   "name": "python3"
  },
  "language_info": {
   "codemirror_mode": {
    "name": "ipython",
    "version": 3
   },
   "file_extension": ".py",
   "mimetype": "text/x-python",
   "name": "python",
   "nbconvert_exporter": "python",
   "pygments_lexer": "ipython3",
   "version": "3.6.5"
  }
 },
 "nbformat": 4,
 "nbformat_minor": 1
}
